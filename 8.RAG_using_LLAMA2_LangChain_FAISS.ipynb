{
 "cells": [
  {
   "cell_type": "markdown",
   "id": "c25a86c0-d447-44c1-b19b-dad0b8e930a9",
   "metadata": {},
   "source": [
    "### LLAMA2 + RAG + FAISS"
   ]
  },
  {
   "cell_type": "code",
   "execution_count": 9,
   "id": "3687cfbf-e714-4749-b68d-b533604e4645",
   "metadata": {},
   "outputs": [],
   "source": [
    "import os\n",
    "import torch\n",
    "import transformers\n",
    "\n",
    "from langchain.vectorstores import FAISS\n",
    "from langchain.document_loaders import PyPDFLoader\n",
    "from langchain.chains.question_answering import load_qa_chain\n",
    "from langchain.prompts import PromptTemplate\n",
    "from langchain.memory import ConversationBufferMemory\n",
    "from langchain.embeddings import HuggingFaceEmbeddings\n",
    "from langchain.chains import RetrievalQA\n",
    "from langchain.document_loaders import UnstructuredFileLoader\n",
    "from langchain.text_splitter import RecursiveCharacterTextSplitter\n",
    "from langchain.chains import RetrievalQAWithSourcesChain\n",
    "from huggingface_hub import notebook_login\n",
    "from transformers import pipeline\n",
    "from transformers import AutoTokenizer, AutoModelForCausalLM\n",
    "from langchain import HuggingFacePipeline\n",
    "from langchain.text_splitter import CharacterTextSplitter\n",
    "import textwrap\n",
    "import sys\n",
    "import os"
   ]
  },
  {
   "cell_type": "code",
   "execution_count": 10,
   "id": "1fe2097d-22bd-4ebf-b4cf-51b84bdb821c",
   "metadata": {},
   "outputs": [],
   "source": [
    "# Collect your own PDF\n",
    "loader = UnstructuredFileLoader('dataset/nlp_2024.pdf')\n",
    "documents = loader.load()"
   ]
  },
  {
   "cell_type": "code",
   "execution_count": 11,
   "id": "f9b021fb-b5af-4942-bc0e-f10b248bebb5",
   "metadata": {},
   "outputs": [
    {
     "name": "stderr",
     "output_type": "stream",
     "text": [
      "Created a chunk of size 3089, which is longer than the specified 1000\n",
      "Created a chunk of size 1963, which is longer than the specified 1000\n",
      "Created a chunk of size 3123, which is longer than the specified 1000\n",
      "Created a chunk of size 2798, which is longer than the specified 1000\n",
      "Created a chunk of size 1040, which is longer than the specified 1000\n",
      "Created a chunk of size 1944, which is longer than the specified 1000\n",
      "Created a chunk of size 3109, which is longer than the specified 1000\n"
     ]
    }
   ],
   "source": [
    "text_splitter=CharacterTextSplitter(separator='\\n',\n",
    "                                    chunk_size=1000,\n",
    "                                    chunk_overlap=50)\n",
    "text_chunks=text_splitter.split_documents(documents)\n"
   ]
  },
  {
   "cell_type": "code",
   "execution_count": 12,
   "id": "5c83be34-2423-46e1-86ad-827ef5afb952",
   "metadata": {},
   "outputs": [],
   "source": [
    "embeddings = HuggingFaceEmbeddings(model_name='/home/jomondal/experiments/mywork/pretrained_models/all-MiniLM-L6-v2',model_kwargs={'device': 'cuda'})\n"
   ]
  },
  {
   "cell_type": "code",
   "execution_count": 13,
   "id": "c6a1f9e5-194b-47b3-a742-7a8ab168922f",
   "metadata": {},
   "outputs": [],
   "source": [
    "vectorstore=FAISS.from_documents(text_chunks, embeddings)"
   ]
  },
  {
   "cell_type": "code",
   "execution_count": null,
   "id": "1c5bdc2a-1d3c-4e96-8401-31c621e5d35c",
   "metadata": {},
   "outputs": [],
   "source": [
    "model_name = \"/home/jomondal/experiments/mywork/pretrained_models/Llama-2-7b-chat-hf\"                                             )\n",
    "device = f'cuda:{torch.cuda.current_device()}' if torch.cuda.is_available() else 'cpu'"
   ]
  },
  {
   "cell_type": "code",
   "execution_count": 17,
   "id": "a4e7fc32-a9dd-4b84-bf03-214eb8b5188f",
   "metadata": {},
   "outputs": [
    {
     "data": {
      "application/vnd.jupyter.widget-view+json": {
       "model_id": "2410bad42b8449f6b74d2949cd8bbe15",
       "version_major": 2,
       "version_minor": 0
      },
      "text/plain": [
       "Loading checkpoint shards:   0%|          | 0/2 [00:00<?, ?it/s]"
      ]
     },
     "metadata": {},
     "output_type": "display_data"
    }
   ],
   "source": [
    "compute_dtype = getattr(torch, \"float16\")\n",
    "\n",
    "bnb_config = transformers.BitsAndBytesConfig(\n",
    "    load_in_4bit=True,\n",
    "    bnb_4bit_quant_type='nf4',\n",
    "    bnb_4bit_use_double_quant=False,\n",
    "    bnb_4bit_compute_dtype=compute_dtype\n",
    ")\n",
    "\n",
    "model = AutoModelForCausalLM.from_pretrained(\n",
    "    model_name,\n",
    "    device_map='auto',\n",
    "    quantization_config=bnb_config,\n",
    "    \n",
    ")\n",
    "model.config.use_cache = False\n",
    "model.config.pretraining_tp = 1\n",
    "\n",
    "tokenizer = AutoTokenizer.from_pretrained(model_name,padding_side=\"left\",\n",
    "    add_eos_token=True,\n",
    "    add_bos_token=True,)\n",
    "tokenizer.pad_token = tokenizer.eos_token"
   ]
  },
  {
   "cell_type": "code",
   "execution_count": 18,
   "id": "bbc18786-d1fa-4d42-aeed-db3067c4a1ff",
   "metadata": {},
   "outputs": [],
   "source": [
    "pipe = pipeline(\"text-generation\",\n",
    "                model=model,\n",
    "                tokenizer= tokenizer,\n",
    "                torch_dtype=torch.bfloat16,\n",
    "                device_map=\"auto\",\n",
    "                max_new_tokens = 1024,\n",
    "                do_sample=True,\n",
    "                top_k=10,\n",
    "                num_return_sequences=1,\n",
    "                eos_token_id=tokenizer.eos_token_id\n",
    "                )\n",
    "llm=HuggingFacePipeline(pipeline=pipe, model_kwargs={'temperature':0})"
   ]
  },
  {
   "cell_type": "code",
   "execution_count": 22,
   "id": "2cc5eeba-5dca-4eab-a1e5-e6282368377a",
   "metadata": {},
   "outputs": [],
   "source": [
    "prompt = \"Tell me about chatGPT?\""
   ]
  },
  {
   "cell_type": "code",
   "execution_count": 23,
   "id": "a63e9c98-86dd-4e38-b6c9-000f9f7bc4a8",
   "metadata": {},
   "outputs": [
    {
     "data": {
      "text/plain": [
       "[{'generated_text': 'Tell me about chatGPT?\\n Hinweis: This is a basic version of chatGPT, and it may not be able to answer all of your questions. However, it can provide some general information about chatGPT and its capabilities.\\n\\nchatGPT is a machine learning model that is designed to generate human-like text based on the input it receives. It was created by the team at Meta AI and is available for use on a variety of platforms, including the web and mobile devices.\\n\\nOne of the key features of chatGPT is its ability to understand and respond to natural language input. This means that you can have a conversation with chatGPT in the same way that you would with a human, using everyday language and phrases. chatGPT is also capable of generating text in a variety of formats, including articles, stories, and even entire conversations.\\n\\nIn addition to its language generation capabilities, chatGPT also has a number of other features that make it useful for a wide range of applications. For example, it can be used to create automated customer service chatbots, generate content for websites and social media platforms, and even help with language translation.\\n\\nOverall, chatGPT is a powerful tool that has the potential to revolutionize the way we interact with technology. Its ability to understand and respond to natural language input makes it feel like a real conversation, and its versatility makes it useful for a wide range of applications.'}]"
      ]
     },
     "execution_count": 23,
     "metadata": {},
     "output_type": "execute_result"
    }
   ],
   "source": [
    "pipe(prompt)"
   ]
  },
  {
   "cell_type": "code",
   "execution_count": 24,
   "id": "b887f23c-2ab2-4c82-a77f-0e166713d044",
   "metadata": {},
   "outputs": [],
   "source": [
    "chain =  RetrievalQA.from_chain_type(llm=llm, chain_type = \"stuff\",return_source_documents=True, retriever=vectorstore.as_retriever())\n"
   ]
  },
  {
   "cell_type": "code",
   "execution_count": 25,
   "id": "b72b90cb-677f-4627-a0ff-b2af2f661816",
   "metadata": {},
   "outputs": [
    {
     "data": {
      "text/plain": [
       "' ChatGPT is an AI chatbot that has gained significant attention and popularity in recent months due to its advanced natural language processing capabilities. It was developed by OpenAI and is backed by Microsoft. ChatGPT can understand and respond to human language in a way that is increasingly indistinguishable from a human conversation. It has been used for a wide range of applications, including building chatbots, generating creative content, and even conducting makeshift therapy sessions.\\nWhile it has been praised for its innovative capabilities, it has also faced criticism for potential biases and limitations. Nonetheless, ChatGPT has become a valuable tool for businesses, individuals, and organizations seeking to automate and improve their communication processes.'"
      ]
     },
     "execution_count": 25,
     "metadata": {},
     "output_type": "execute_result"
    }
   ],
   "source": [
    "result=chain({\"query\": prompt}, return_only_outputs=True)\n",
    "wrapped_text = textwrap.fill(result['result'], width=500)\n",
    "wrapped_text"
   ]
  },
  {
   "cell_type": "code",
   "execution_count": null,
   "id": "67d40bac-2257-4988-8b4b-98f4da3de294",
   "metadata": {},
   "outputs": [],
   "source": []
  }
 ],
 "metadata": {
  "kernelspec": {
   "display_name": "venv",
   "language": "python",
   "name": "venv"
  },
  "language_info": {
   "codemirror_mode": {
    "name": "ipython",
    "version": 3
   },
   "file_extension": ".py",
   "mimetype": "text/x-python",
   "name": "python",
   "nbconvert_exporter": "python",
   "pygments_lexer": "ipython3",
   "version": "3.8.15"
  }
 },
 "nbformat": 4,
 "nbformat_minor": 5
}
